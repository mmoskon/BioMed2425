{
 "cells": [
  {
   "cell_type": "markdown",
   "metadata": {},
   "source": [
    "# Metabolic subsystems enrichment analysis\n",
    "\n",
    "## Hypergeometric test\n",
    "Hipergeometric test is based on hypergeometric distribution, which is a discrete probability distribution, describing the probability, that in a population of size M with N specific objects, the latter are selected k times when n objects are selected in total.\n",
    "\n",
    "Hypergeometric test:\n",
    "$$P(x \\geq k) = 1 - hypergeom.cdf(k-1, M, n, N)$$\n",
    "\n",
    "* k: number of differentially active reactions in a subsystem,\n",
    "* n: number of differentially active reactions in a model,\n",
    "* N: number of reactions in a subsystem,\n",
    "* M: number of reactions in a model."
   ]
  },
  {
   "cell_type": "code",
   "execution_count": null,
   "metadata": {},
   "outputs": [],
   "source": [
    "import pandas as pd\n",
    "import numpy as np\n",
    "\n",
    "from scipy.stats import hypergeom\n",
    "#import statsmodels.stats.multitest as multi\n",
    "from helpers import bh\n",
    "\n",
    "import cobra\n",
    "\n",
    "import os.path\n"
   ]
  },
  {
   "cell_type": "markdown",
   "metadata": {},
   "source": [
    "## Basic settings"
   ]
  },
  {
   "cell_type": "code",
   "execution_count": null,
   "metadata": {},
   "outputs": [],
   "source": [
    "folder_enrich = 'enrichment'"
   ]
  },
  {
   "cell_type": "markdown",
   "metadata": {},
   "source": [
    "## Metabolic subsystems\n",
    "SBML representation of Recon3D does not include subsystem data. We can get these data through `mat` (Matlab) model format (uncomment the code below to access this)."
   ]
  },
  {
   "cell_type": "code",
   "execution_count": null,
   "metadata": {},
   "outputs": [],
   "source": [
    "#model = cobra.io.read_sbml_model('models\\\\Recon3D.xml')"
   ]
  },
  {
   "cell_type": "code",
   "execution_count": null,
   "metadata": {},
   "outputs": [],
   "source": [
    "#model_mat = cobra.io.load_matlab_model('models\\\\Recon3D.mat')"
   ]
  },
  {
   "cell_type": "code",
   "execution_count": null,
   "metadata": {},
   "outputs": [],
   "source": [
    "#reactions_subsystems = {}\n",
    "#for r in model_mat.reactions:\n",
    "#    reactions_subsystems[r.id] = r.subsystem"
   ]
  },
  {
   "cell_type": "code",
   "execution_count": null,
   "metadata": {},
   "outputs": [],
   "source": [
    "#df_subsystems = pd.DataFrame()\n",
    "#df_subsystems['subsystem'] = reactions_subsystems.values()\n",
    "#df_subsystems['reaction'] = reactions_subsystems.keys()\n",
    "#df_subsystems.to_csv('models\\\\subsystems.csv', index=False)"
   ]
  },
  {
   "cell_type": "markdown",
   "metadata": {},
   "source": [
    "In our case, subsystems data are stored in a separate file."
   ]
  },
  {
   "cell_type": "code",
   "execution_count": null,
   "metadata": {},
   "outputs": [],
   "source": [
    "df_subsystems = pd.read_csv(os.path.join('models','subsystems.csv'))\n",
    "subsystems = df_subsystems.subsystem.unique()\n",
    "df_subsystems.head()"
   ]
  },
  {
   "cell_type": "markdown",
   "metadata": {},
   "source": [
    "Differential reaction activities have been calculated in the previous step. Let's read these data:"
   ]
  },
  {
   "cell_type": "code",
   "execution_count": null,
   "metadata": {},
   "outputs": [],
   "source": [
    "folder_enrich"
   ]
  },
  {
   "cell_type": "code",
   "execution_count": null,
   "metadata": {},
   "outputs": [],
   "source": [
    "df_reactions = pd.read_csv(os.path.join(f'{folder_enrich}','reactions.csv'))"
   ]
  },
  {
   "cell_type": "markdown",
   "metadata": {},
   "source": [
    "## Hypergeometric test\n",
    "We will calculate the p-values for all subsystems:"
   ]
  },
  {
   "cell_type": "code",
   "execution_count": null,
   "metadata": {},
   "outputs": [],
   "source": [
    "df_enrichment = pd.DataFrame(columns=[\"subsystem\", \"p_up\", \"p_down\", \"q_up\", \"q_down\", \"enrichment\", \"p_changed\", \"q_changed\", \"changed\"])\n",
    "df_enrichment[\"subsystem\"] = subsystems\n",
    "\n",
    "M = len(df_reactions) # number of different reactions in pairs of models\n",
    "n_up = sum(df_reactions.enrichment == 1) # number of upregulated reactions in models\n",
    "n_down = sum(df_reactions.enrichment == -1)  # number of downregulated reactions in models\n",
    "n_changed = sum(df_reactions.changed == 1)  # number of changed reactions in models\n",
    "\n",
    "for subsystem in subsystems:\n",
    "    subsystem_reactions = df_subsystems.loc[df_subsystems.subsystem == subsystem,'reaction'].values\n",
    "    df_sub = df_reactions[df_reactions['reaction'].isin(subsystem_reactions)]\n",
    "        \n",
    "    #if not take_all:\n",
    "    # option 1: take only remaining reactions\n",
    "    N = len(df_sub) # number of reactions in a subsystem\n",
    "    #else:\n",
    "    #    # option 2: take all reactions from the original model\n",
    "    #    N = len(df_subs[df_subs.subsystem == subsystem])\n",
    "    k_up = sum(df_sub.enrichment == 1)# number of upregulated reactions in a subsystem\n",
    "    k_down = sum(df_sub.enrichment == -1)# number of downregulated reactions in a subsystem\n",
    "    k_changed = sum(df_sub.changed == 1)# number of changed reactions in a subsystem\n",
    "    \n",
    "    if n_up:         \n",
    "        p_up = 1 - hypergeom.cdf(k_up-1, M, n_up, N)                \n",
    "    else:\n",
    "        p_up = 1.0\n",
    "        \n",
    "    if n_down:         \n",
    "        p_down = 1 - hypergeom.cdf(k_down-1, M, n_down, N)                \n",
    "    else:\n",
    "        p_down = 1.0\n",
    "        \n",
    "    if n_changed:\n",
    "        p_changed = 1 - hypergeom.cdf(k_changed, M, n_changed, N)                \n",
    "    else:\n",
    "        p_changed = 1\n",
    "        \n",
    "    df_enrichment.loc[df_enrichment[\"subsystem\"] == subsystem, 'p_up'] = p_up\n",
    "    df_enrichment.loc[df_enrichment[\"subsystem\"] == subsystem, 'p_down'] = p_down\n",
    "    df_enrichment.loc[df_enrichment[\"subsystem\"] == subsystem, 'p_changed'] = p_changed\n",
    "    \n",
    "\n",
    "    \n",
    "df_enrichment['q_up'] = bh(df_enrichment['p_up'])\n",
    "df_enrichment['q_down'] = bh(df_enrichment['p_down'])\n",
    "df_enrichment['q_changed'] = bh(df_enrichment['p_changed'])\n",
    "\n",
    "    \n",
    "df_enrichment.loc[(df_enrichment['q_up']<0.05) & (df_enrichment['q_up']<df_enrichment['q_down']),'enrichment'] = 1\n",
    "df_enrichment.loc[(df_enrichment['q_down']<0.05) & (df_enrichment['q_down']<=df_enrichment['q_up']),'enrichment'] = -1\n",
    "df_enrichment.loc[(df_enrichment['q_changed']<0.05),'changed'] = 1\n",
    "\n",
    "df_enrichment = df_enrichment.fillna(0)\n",
    "\n",
    "\n"
   ]
  },
  {
   "cell_type": "code",
   "execution_count": null,
   "metadata": {},
   "outputs": [],
   "source": [
    "df_enrichment"
   ]
  },
  {
   "cell_type": "code",
   "execution_count": null,
   "metadata": {},
   "outputs": [],
   "source": [
    "df_enrichment.to_csv(f\"{folder_enrich}\\\\subsystems.csv\", index=False)"
   ]
  },
  {
   "cell_type": "code",
   "execution_count": null,
   "metadata": {},
   "outputs": [],
   "source": []
  }
 ],
 "metadata": {
  "kernelspec": {
   "display_name": "metabolic",
   "language": "python",
   "name": "metabolic"
  },
  "language_info": {
   "codemirror_mode": {
    "name": "ipython",
    "version": 3
   },
   "file_extension": ".py",
   "mimetype": "text/x-python",
   "name": "python",
   "nbconvert_exporter": "python",
   "pygments_lexer": "ipython3",
   "version": "3.11.0"
  }
 },
 "nbformat": 4,
 "nbformat_minor": 4
}
