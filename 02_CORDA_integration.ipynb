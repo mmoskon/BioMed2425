{
 "cells": [
  {
   "cell_type": "code",
   "execution_count": null,
   "metadata": {
    "ExecuteTime": {
     "end_time": "2023-04-19T07:11:44.108119Z",
     "start_time": "2023-04-19T07:11:36.469033Z"
    }
   },
   "outputs": [],
   "source": [
    "import pandas as pd\n",
    "import cobra\n",
    "\n",
    "from cobra.io import load_model\n",
    "\n",
    "import numpy as np\n",
    "import pickle\n",
    "\n",
    "import os.path"
   ]
  },
  {
   "cell_type": "markdown",
   "metadata": {},
   "source": [
    "We need to read the Recon3D model, which will be used as a reference."
   ]
  },
  {
   "cell_type": "code",
   "execution_count": null,
   "metadata": {
    "ExecuteTime": {
     "end_time": "2023-04-19T07:13:04.074549Z",
     "start_time": "2023-04-19T07:12:13.120009Z"
    }
   },
   "outputs": [],
   "source": [
    "model = cobra.io.read_sbml_model(os.path.join('models','Recon3D.xml'))"
   ]
  },
  {
   "cell_type": "markdown",
   "metadata": {},
   "source": [
    "We will prepare two dictionaries to connect gene ids with gene names and vice versa:"
   ]
  },
  {
   "cell_type": "code",
   "execution_count": null,
   "metadata": {
    "ExecuteTime": {
     "end_time": "2023-04-19T07:13:07.234685Z",
     "start_time": "2023-04-19T07:13:07.194738Z"
    }
   },
   "outputs": [],
   "source": [
    "gene_id_name = {} # from gene id to gene name\n",
    "gene_name_id = {} # from gene name to gene id\n",
    "\n",
    "for g in model.genes[1:]:\n",
    "    gene_id_name[g.id] = g.name\n",
    "    gene_name_id[g.name] = g.id"
   ]
  },
  {
   "cell_type": "code",
   "execution_count": null,
   "metadata": {
    "ExecuteTime": {
     "end_time": "2023-04-19T07:16:00.807536Z",
     "start_time": "2023-04-19T07:16:00.757847Z"
    },
    "collapsed": false,
    "jupyter": {
     "outputs_hidden": false
    }
   },
   "outputs": [],
   "source": [
    "list(gene_id_name.items())[:5] # the first 5 elements of the dictionary connecting gene ids with gene names"
   ]
  },
  {
   "cell_type": "code",
   "execution_count": null,
   "metadata": {
    "ExecuteTime": {
     "end_time": "2023-04-19T07:16:35.854273Z",
     "start_time": "2023-04-19T07:16:35.830838Z"
    },
    "collapsed": false,
    "jupyter": {
     "outputs_hidden": false
    }
   },
   "outputs": [],
   "source": [
    "list(gene_name_id.items())[:5] # the first 5 elements of the dictionary connecting gene names with gene ids"
   ]
  },
  {
   "cell_type": "markdown",
   "metadata": {},
   "source": [
    "Next, we will read the data, that we prepared in the previous step:"
   ]
  },
  {
   "cell_type": "code",
   "execution_count": null,
   "metadata": {},
   "outputs": [],
   "source": [
    "df_control = pd.read_csv(os.path.join('data','data_control.txt'))\n",
    "df_kd = pd.read_csv(os.path.join('data','data_kd.txt'))"
   ]
  },
  {
   "cell_type": "markdown",
   "metadata": {},
   "source": [
    "We will assign gene ids to the genes:"
   ]
  },
  {
   "cell_type": "code",
   "execution_count": null,
   "metadata": {},
   "outputs": [],
   "source": [
    "df_control['gene_id'] = df_control['gene'].map(lambda x: gene_name_id[x] if x in gene_name_id else \"\")\n",
    "df_kd['gene_id'] = df_kd['gene'].map(lambda x: gene_name_id[x] if x in gene_name_id else \"\")"
   ]
  },
  {
   "cell_type": "code",
   "execution_count": null,
   "metadata": {},
   "outputs": [],
   "source": [
    "df_control"
   ]
  },
  {
   "cell_type": "markdown",
   "metadata": {},
   "source": [
    "and we will keep only the genes that are present in the model:"
   ]
  },
  {
   "cell_type": "code",
   "execution_count": null,
   "metadata": {},
   "outputs": [],
   "source": [
    "df_control = df_control[df_control['gene_id'] != \"\"]\n",
    "df_kd = df_kd[df_kd['gene_id'] != \"\"]"
   ]
  },
  {
   "cell_type": "code",
   "execution_count": null,
   "metadata": {},
   "outputs": [],
   "source": [
    "len(df_control), len(df_kd)"
   ]
  },
  {
   "cell_type": "code",
   "execution_count": null,
   "metadata": {},
   "outputs": [],
   "source": [
    "df_control.describe()"
   ]
  },
  {
   "cell_type": "code",
   "execution_count": null,
   "metadata": {},
   "outputs": [],
   "source": [
    "df_kd.describe()"
   ]
  },
  {
   "cell_type": "markdown",
   "metadata": {},
   "source": [
    "### Integration of transcriptomics data into the model"
   ]
  },
  {
   "cell_type": "markdown",
   "metadata": {},
   "source": [
    "We will employ a method called CORDA (Cost Optimization Reaction Dependency Assessment):\n",
    "\n",
    "* [https://resendislab.github.io/corda/](https://resendislab.github.io/corda/)\n",
    "* [https://github.com/resendislab/corda](https://github.com/resendislab/corda)\n",
    "\n",
    "We will use a function that requires the specification of `confidence` scores for each reaction in a model:\n",
    "```\n",
    "Allowed confidence values are -1 (absent/do not include), 0 (unknown), 1 (low confidence), 2 (medium confidence) and 3 (high confidence).\n",
    "```\n",
    "\n",
    "`confidence` can be prepared using the CORDA function `reaction_confidence`. This function will project gene expression levels (on the same scale as above) into reaction activity levels using the GPR rules in a model.\n",
    "\n",
    "\n",
    "Additionally we can require for the model to keep biomass production reaction active:\n",
    "```\n",
    "met_prod (Optional[list]): Additional metabolic targets that have to be\n",
    "            achieved by the model. Can be a single object or list of objects.\n",
    "            List elements can be given in various forms:\n",
    "            (1) A string naming a metabolite in the model will ensure that the\n",
    "            metabolite can be produced.\n",
    "            For instance: met_prod = [\"pi_c\", \"atp_c\"]\n",
    "            (2) A dictionary of metabolite -> int will define an irreversible\n",
    "            reaction that must be able to carry flux.\n",
    "            For instance: met_prod = {\"adp_c\": -1, \"pi_c\": -1, \"atp_c\": 1}\n",
    "            (3) A string representation of a reversible or irreversible\n",
    "            reaction that must be able to carry flux.\n",
    "            For instance: met_prod = \"adp_c + pi_c -> atp_c\"\n",
    "\n",
    "```\n",
    "Example of preparation of `met_prod` string:\n",
    "```Python\n",
    "met_prod = model.reactions.BIOMASS_maintenance.build_reaction_string()\n",
    "met_prod = met_prod.replace(\"-->\", \"->\")\n",
    "```\n"
   ]
  },
  {
   "cell_type": "code",
   "execution_count": null,
   "metadata": {},
   "outputs": [],
   "source": [
    "biomass = model.reactions.BIOMASS_maintenance.build_reaction_string().replace(\"-->\", \"->\")\n",
    "biomass"
   ]
  },
  {
   "cell_type": "markdown",
   "metadata": {},
   "source": [
    "### Projection of gene expression levels to reaction activities"
   ]
  },
  {
   "cell_type": "code",
   "execution_count": null,
   "metadata": {},
   "outputs": [],
   "source": [
    "from corda import reaction_confidence\n",
    "from corda import CORDA"
   ]
  },
  {
   "cell_type": "markdown",
   "metadata": {},
   "source": [
    "We will prepare a function that will project gene expression levels to values -1, 0, 1, 2 and 3. The projection will be based on predefined thresholds."
   ]
  },
  {
   "cell_type": "code",
   "execution_count": null,
   "metadata": {},
   "outputs": [],
   "source": [
    "def val_to_score(val, thr0, thr1, thr2, thr3):\n",
    "    if val < thr0:\n",
    "        return -1\n",
    "    elif val < thr1:\n",
    "        return 0\n",
    "    elif val < thr2:\n",
    "        return 1\n",
    "    elif val < thr3:\n",
    "        return 2\n",
    "    else:\n",
    "        return 3"
   ]
  },
  {
   "cell_type": "markdown",
   "metadata": {},
   "source": [
    "#### Reconstruction parameters\n",
    "The thresholds will be defined on the basis of gene expression levels in each sample. This can be achieved with different strategies ([further reading](https://doi.org/10.1371/journal.pcbi.1007185)). In our case, we will observe percentile scores."
   ]
  },
  {
   "cell_type": "code",
   "execution_count": null,
   "metadata": {},
   "outputs": [],
   "source": [
    "require_biomass = True\n",
    "perc0 = 25 # below this ... inactive\n",
    "perc1 = 50 # else, below this ... not sure\n",
    "perc2 = 75 # else, below this ...  low confidence\n",
    "perc3 = 95 # else, below this ... medium confidence\n",
    "# else high confidence (above perc3)"
   ]
  },
  {
   "cell_type": "code",
   "execution_count": null,
   "metadata": {},
   "outputs": [],
   "source": [
    "folder = \"models\"\n",
    "folder"
   ]
  },
  {
   "cell_type": "markdown",
   "metadata": {},
   "source": [
    "### Control\n",
    "The thresholds will be defined for each group separately:"
   ]
  },
  {
   "cell_type": "code",
   "execution_count": null,
   "metadata": {},
   "outputs": [],
   "source": [
    "thr0 = np.percentile(df_control.value, perc0)\n",
    "thr1 = np.percentile(df_control.value, perc1)\n",
    "thr2 = np.percentile(df_control.value, perc2)\n",
    "thr3 = np.percentile(df_control.value, perc3)"
   ]
  },
  {
   "cell_type": "markdown",
   "metadata": {},
   "source": [
    "First we need to project gene expression levels to predefined groups:"
   ]
  },
  {
   "cell_type": "code",
   "execution_count": null,
   "metadata": {},
   "outputs": [],
   "source": [
    "#gene_conf_control = {g_id:-1 if val < thr0 else 1 if val < thr1 else 2 if val < thr2 else 3 for (g_id, val) in zip(df_control['gene_id'], df_control['value'])}\n",
    "gene_conf_control = {g_id : val_to_score(val, thr0, thr1, thr2, thr3) for (g_id, val) in zip(df_control['gene_id'], df_control['value'])}"
   ]
  },
  {
   "cell_type": "markdown",
   "metadata": {},
   "source": [
    "Next we can employ the CORDA function `reaction_confidence`. This function will use to gene groups to classify reactions in a model into the same groups (with the application of GPR rules)."
   ]
  },
  {
   "cell_type": "code",
   "execution_count": null,
   "metadata": {},
   "outputs": [],
   "source": [
    "conf_control = {}\n",
    "for r in model.reactions:\n",
    "    conf_control[r.id] = reaction_confidence(r, gene_conf_control)"
   ]
  },
  {
   "cell_type": "markdown",
   "metadata": {},
   "source": [
    "Finally, we can execute the data integration step.\n",
    "\n",
    "**CAUTION: this step is time consuming! You can skip the cells below in read the data from a file that was prepared in advance.**"
   ]
  },
  {
   "cell_type": "code",
   "execution_count": null,
   "metadata": {},
   "outputs": [],
   "source": [
    "if require_biomass:\n",
    "    opt_control = CORDA(model, conf_control, met_prod = biomass)\n",
    "else:\n",
    "    opt_control = CORDA(model, conf_control)\n",
    "opt_control.build()\n",
    "print(opt_control)"
   ]
  },
  {
   "cell_type": "markdown",
   "metadata": {},
   "source": [
    "First we need to translate the model into a COBRA model"
   ]
  },
  {
   "cell_type": "code",
   "execution_count": null,
   "metadata": {},
   "outputs": [],
   "source": [
    "model_control = opt_control.cobra_model()"
   ]
  },
  {
   "cell_type": "markdown",
   "metadata": {},
   "source": [
    "If biomass function should also be active in the final model"
   ]
  },
  {
   "cell_type": "code",
   "execution_count": null,
   "metadata": {},
   "outputs": [],
   "source": [
    "if require_biomass:\n",
    "    model_control.add_reactions([model.reactions.BIOMASS_maintenance])\n",
    "    model_control.objective=model.objective"
   ]
  },
  {
   "cell_type": "markdown",
   "metadata": {},
   "source": [
    "Finally, we store the model into an SBML file:"
   ]
  },
  {
   "cell_type": "code",
   "execution_count": null,
   "metadata": {},
   "outputs": [],
   "source": [
    "cobra.io.write_sbml_model(model_control, os.path.join(f'{folder}','model_control.xml'))"
   ]
  },
  {
   "cell_type": "markdown",
   "metadata": {},
   "source": [
    "**Reading the results from a file (in a case the steps above were skipped).**"
   ]
  },
  {
   "cell_type": "code",
   "execution_count": null,
   "metadata": {},
   "outputs": [],
   "source": [
    "model_control = cobra.io.read_sbml_model(os.path.join(f'{folder}','model_control.xml'))"
   ]
  },
  {
   "cell_type": "code",
   "execution_count": null,
   "metadata": {},
   "outputs": [],
   "source": [
    "model_control.summary()"
   ]
  },
  {
   "cell_type": "markdown",
   "metadata": {},
   "source": [
    "### Knockdown\n",
    "\n",
    "We can repeat the same procedure on the dataset with silenced oncogene:"
   ]
  },
  {
   "cell_type": "code",
   "execution_count": null,
   "metadata": {},
   "outputs": [],
   "source": [
    "thr0 = np.percentile(df_kd.value, perc0)\n",
    "thr1 = np.percentile(df_kd.value, perc1)\n",
    "thr2 = np.percentile(df_kd.value, perc2)\n",
    "thr3 = np.percentile(df_kd.value, perc3)"
   ]
  },
  {
   "cell_type": "code",
   "execution_count": null,
   "metadata": {},
   "outputs": [],
   "source": [
    "gene_conf_kd = {g_id : val_to_score(val, thr0, thr1, thr2, thr3) for (g_id, val) in zip(df_kd['gene_id'], df_kd['value'])}"
   ]
  },
  {
   "cell_type": "code",
   "execution_count": null,
   "metadata": {},
   "outputs": [],
   "source": [
    "conf_kd = {}\n",
    "for r in model.reactions:\n",
    "    conf_kd[r.id] = reaction_confidence(r, gene_conf_kd)"
   ]
  },
  {
   "cell_type": "markdown",
   "metadata": {},
   "source": [
    "**CAUTION: this step is time consuming! You can skip the cells below in read the data from a file that was prepared in advance.**"
   ]
  },
  {
   "cell_type": "code",
   "execution_count": null,
   "metadata": {},
   "outputs": [],
   "source": [
    "if require_biomass:\n",
    "    opt_kd = CORDA(model, conf_kd, met_prod = biomass)\n",
    "else:\n",
    "    opt_kd = CORDA(model, conf_kd)\n",
    "opt_kd.build()\n",
    "print(opt_kd)"
   ]
  },
  {
   "cell_type": "code",
   "execution_count": null,
   "metadata": {},
   "outputs": [],
   "source": [
    "model_kd = opt_kd.cobra_model()"
   ]
  },
  {
   "cell_type": "code",
   "execution_count": null,
   "metadata": {},
   "outputs": [],
   "source": [
    "if require_biomass:\n",
    "    model_kd.add_reactions([model.reactions.BIOMASS_maintenance])\n",
    "    model_kd.objective=model.objective   "
   ]
  },
  {
   "cell_type": "code",
   "execution_count": null,
   "metadata": {},
   "outputs": [],
   "source": [
    "cobra.io.write_sbml_model(model_kd, os.path.join(f'{folder}','model_kd.xml'))"
   ]
  },
  {
   "cell_type": "markdown",
   "metadata": {},
   "source": [
    "**Reading the results from a file (in a case the steps above were skipped).**"
   ]
  },
  {
   "cell_type": "code",
   "execution_count": null,
   "metadata": {},
   "outputs": [],
   "source": [
    "model_kd = cobra.io.read_sbml_model(os.path.join(f'{folder}','model_kd.xml'))"
   ]
  },
  {
   "cell_type": "code",
   "execution_count": null,
   "metadata": {},
   "outputs": [],
   "source": [
    "model_kd.summary()"
   ]
  },
  {
   "cell_type": "code",
   "execution_count": null,
   "metadata": {},
   "outputs": [],
   "source": []
  }
 ],
 "metadata": {
  "kernelspec": {
   "display_name": "metabolic",
   "language": "python",
   "name": "metabolic"
  },
  "language_info": {
   "codemirror_mode": {
    "name": "ipython",
    "version": 3
   },
   "file_extension": ".py",
   "mimetype": "text/x-python",
   "name": "python",
   "nbconvert_exporter": "python",
   "pygments_lexer": "ipython3",
   "version": "3.11.0"
  }
 },
 "nbformat": 4,
 "nbformat_minor": 4
}
