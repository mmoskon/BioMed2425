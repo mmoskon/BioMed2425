{
 "cells": [
  {
   "cell_type": "markdown",
   "metadata": {},
   "source": [
    "## Reading the data"
   ]
  },
  {
   "cell_type": "code",
   "execution_count": null,
   "metadata": {},
   "outputs": [],
   "source": [
    "import pandas as pd\n",
    "import os.path"
   ]
  },
  {
   "cell_type": "markdown",
   "metadata": {},
   "source": [
    "We will read the data describing the gene expression intesities - the data were acquired with DNA microarrays:"
   ]
  },
  {
   "cell_type": "code",
   "execution_count": null,
   "metadata": {},
   "outputs": [],
   "source": [
    "df = pd.read_csv(os.path.join('data','data.txt'), comment=\"#\", sep=\"\\t\")"
   ]
  },
  {
   "cell_type": "markdown",
   "metadata": {},
   "source": [
    "Which columns are available?"
   ]
  },
  {
   "cell_type": "code",
   "execution_count": null,
   "metadata": {},
   "outputs": [],
   "source": [
    "df.columns"
   ]
  },
  {
   "cell_type": "markdown",
   "metadata": {},
   "source": [
    "The columns `'1 Avg (log2)'` and `'2 Avg (log2)'` contain averaged intensitites (obtained from three control replicates and three replicates in which ESRP2 was silenced). The last 6 columns contain intensities measured in all 6 samples (3 x control, 3 x knockdown). The experiment is describe in the [paper](https://www.mdpi.com/1422-0067/22/14/7477).\n",
    "\n",
    "We will only focus on the columns with average intesities. We will also need gene names (symbols) also used in GEM:"
   ]
  },
  {
   "cell_type": "code",
   "execution_count": null,
   "metadata": {},
   "outputs": [],
   "source": [
    "df1 = df[['Gene Symbol', '1 Avg (log2)']]\n",
    "df2 = df[['Gene Symbol', '2 Avg (log2)']] "
   ]
  },
  {
   "cell_type": "markdown",
   "metadata": {},
   "source": [
    "We will store these data in two separate files:"
   ]
  },
  {
   "cell_type": "code",
   "execution_count": null,
   "metadata": {},
   "outputs": [],
   "source": [
    "df1.columns=['gene', 'value']\n",
    "df2.columns=['gene', 'value']\n",
    "\n",
    "df1.to_csv(os.path.join('data','data_control.txt'), index=False)\n",
    "df2.to_csv(os.path.join('data','data_kd.txt'), index=False)\n"
   ]
  },
  {
   "cell_type": "code",
   "execution_count": null,
   "metadata": {},
   "outputs": [],
   "source": []
  }
 ],
 "metadata": {
  "kernelspec": {
   "display_name": "metabolic",
   "language": "python",
   "name": "metabolic"
  },
  "language_info": {
   "codemirror_mode": {
    "name": "ipython",
    "version": 3
   },
   "file_extension": ".py",
   "mimetype": "text/x-python",
   "name": "python",
   "nbconvert_exporter": "python",
   "pygments_lexer": "ipython3",
   "version": "3.11.0"
  }
 },
 "nbformat": 4,
 "nbformat_minor": 4
}
