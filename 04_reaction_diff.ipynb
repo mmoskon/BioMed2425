{
 "cells": [
  {
   "cell_type": "markdown",
   "metadata": {},
   "source": [
    "# Differential activity of metabolic reactions\n",
    "We will compare the reaction pairs (control, knock down) on the basis of flux samples.\n",
    "\n",
    "We can employ Kolmogorov-Smirnov test, which does not presume normality of data distributions. Statistical differences can be evaluated using p-values.\n",
    "\n",
    "Additionally, we will observe the magnitudes of changes (fold-changes):\n",
    "\n",
    "$$FC = \\frac{\\overline{R_{kd}} - \\overline{R_{control}}}{\\left|\\overline{R_{kd}} + \\overline{R_{control}}\\right|}$$"
   ]
  },
  {
   "cell_type": "code",
   "execution_count": null,
   "metadata": {},
   "outputs": [],
   "source": [
    "import pandas as pd\n",
    "import numpy as np\n",
    "\n",
    "from scipy.stats import ks_2samp\n",
    "#import statsmodels.stats.multitest as multi\n",
    "\n",
    "import os.path\n",
    "\n",
    "from helpers import bh"
   ]
  },
  {
   "cell_type": "markdown",
   "metadata": {},
   "source": [
    "### Basic setting"
   ]
  },
  {
   "cell_type": "code",
   "execution_count": null,
   "metadata": {},
   "outputs": [],
   "source": [
    "require_biomass = True\n",
    "folder_samples = \"samples\"\n",
    "folder_enrich = \"enrichment\""
   ]
  },
  {
   "cell_type": "markdown",
   "metadata": {},
   "source": [
    "### Importing the data"
   ]
  },
  {
   "cell_type": "code",
   "execution_count": null,
   "metadata": {},
   "outputs": [],
   "source": [
    "df_control = pd.read_csv(os.path.join(f'{folder_samples}','samples_control.csv'))\n",
    "#df_kd = pd.read_csv(os.path.join(f'{folder_samples}','samples_control2.csv'))\n",
    "df_kd = pd.read_csv(os.path.join(f'{folder_samples}','samples_kd.csv'))"
   ]
  },
  {
   "cell_type": "code",
   "execution_count": null,
   "metadata": {},
   "outputs": [],
   "source": [
    "reactions = sorted(list(set(df_control.columns) | set(df_kd.columns)))\n",
    "len(reactions) # število reakcij"
   ]
  },
  {
   "cell_type": "markdown",
   "metadata": {},
   "source": [
    "### Differential activity of metabolic reactions"
   ]
  },
  {
   "cell_type": "code",
   "execution_count": null,
   "metadata": {},
   "outputs": [],
   "source": [
    "df = pd.DataFrame(columns=['reaction', 'FC', 'p', 'q', 'enrichment', 'changed'])\n",
    "df['reaction']=reactions\n",
    "\n",
    "n_samples = df_control.shape[0]\n",
    "\n",
    "# we will go through all reactions\n",
    "for reaction in reactions:\n",
    "    if reaction in df_control.columns:\n",
    "        control = df_control[reaction].values\n",
    "    else:\n",
    "        # if a reaction is not in the control group, its activity equals 0\n",
    "        control = np.zeros(n_samples)\n",
    "        \n",
    "    if reaction in df_kd.columns:\n",
    "        kd = df_kd[reaction].values\n",
    "    else:\n",
    "        # if a reaction is not in the kd group, its activity equals 0\n",
    "        kd = np.zeros(n_samples)\n",
    "        \n",
    "    # mean activities\n",
    "    mean_control = np.mean(control)\n",
    "    mean_kd = np.mean(kd)\n",
    "    \n",
    "    # FC - fold change and significance using the 2 sample Kolmogorov-Smirnov test\n",
    "    if mean_control != 0 or mean_kd != 0:\n",
    "        FC = (mean_kd-mean_control)/(abs(mean_kd + mean_control))\n",
    "        p = ks_2samp(control,kd)[1]\n",
    "    else:\n",
    "        FC = 0\n",
    "        p = 1     \n",
    "        \n",
    "    df.loc[df['reaction']==reaction, 'FC'] = FC\n",
    "    df.loc[df['reaction']==reaction, 'p'] = p\n",
    "    \n",
    "    \n",
    "# adjustment of p-values for multiple testing - FDR correction\n",
    "df['q'] = bh(df['p'])\n",
    "\n",
    "# signifikanca zahteva vsaj 10-kratno up-/down-regulacijo\n",
    "df.loc[(df['FC'] >= 0.82) & (df['q'] < 0.05),'enrichment'] = 1\n",
    "df.loc[(df['FC'] <= -0.82) & (df['q'] < 0.05),'enrichment'] = -1\n",
    "df.loc[~df['enrichment'].isna(),'changed'] = 1\n",
    "#df = df.fillna(0)\n",
    "    \n",
    "    "
   ]
  },
  {
   "cell_type": "code",
   "execution_count": null,
   "metadata": {},
   "outputs": [],
   "source": [
    "df=df.fillna(0)"
   ]
  },
  {
   "cell_type": "code",
   "execution_count": null,
   "metadata": {},
   "outputs": [],
   "source": [
    "df.to_csv(os.path.join(f\"{folder_enrich}\",\"reactions.csv\"), index=False)"
   ]
  },
  {
   "cell_type": "code",
   "execution_count": null,
   "metadata": {},
   "outputs": [],
   "source": []
  }
 ],
 "metadata": {
  "kernelspec": {
   "display_name": "metabolic",
   "language": "python",
   "name": "metabolic"
  },
  "language_info": {
   "codemirror_mode": {
    "name": "ipython",
    "version": 3
   },
   "file_extension": ".py",
   "mimetype": "text/x-python",
   "name": "python",
   "nbconvert_exporter": "python",
   "pygments_lexer": "ipython3",
   "version": "3.11.0"
  }
 },
 "nbformat": 4,
 "nbformat_minor": 4
}
