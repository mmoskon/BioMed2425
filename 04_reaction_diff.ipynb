{
 "cells": [
  {
   "cell_type": "markdown",
   "metadata": {},
   "source": [
    "# Differential activity of metabolic reactions\n",
    "We will compare the reaction pairs (control, knock down) on the basis of flux samples.\n",
    "\n",
    "We can employ Kolmogorov-Smirnov test, which does not presume normality of data distributions. Statistical differences can be evaluated using p-values.\n",
    "\n",
    "Additionally, we will observe the magnitudes of changes (fold-changes):\n",
    "\n",
    "$$FC = \\frac{\\overline{R_{kd}} - \\overline{R_{control}}}{\\left|\\overline{R_{kd}} + \\overline{R_{control}}\\right|}$$"
   ]
  },
  {
   "cell_type": "code",
   "execution_count": 1,
   "metadata": {},
   "outputs": [],
   "source": [
    "import pandas as pd\n",
    "import numpy as np\n",
    "\n",
    "from scipy.stats import ks_2samp\n",
    "#import statsmodels.stats.multitest as multi\n",
    "\n",
    "import os.path\n",
    "\n",
    "from helpers import bh"
   ]
  },
  {
   "cell_type": "markdown",
   "metadata": {},
   "source": [
    "### Basic setting"
   ]
  },
  {
   "cell_type": "code",
   "execution_count": 2,
   "metadata": {},
   "outputs": [],
   "source": [
    "require_biomass = True\n",
    "folder_samples = \"samples\"\n",
    "folder_enrich = \"enrichment\""
   ]
  },
  {
   "cell_type": "markdown",
   "metadata": {},
   "source": [
    "### Importing the data"
   ]
  },
  {
   "cell_type": "code",
   "execution_count": 3,
   "metadata": {},
   "outputs": [],
   "source": [
    "df_control = pd.read_csv(os.path.join(f'{folder_samples}','samples_control.csv'))\n",
    "#df_kd = pd.read_csv(os.path.join(f'{folder_samples}','samples_control2.csv'))\n",
    "df_kd = pd.read_csv(os.path.join(f'{folder_samples}','samples_kd.csv'))"
   ]
  },
  {
   "cell_type": "code",
   "execution_count": 4,
   "metadata": {},
   "outputs": [
    {
     "data": {
      "text/plain": [
       "2282"
      ]
     },
     "execution_count": 4,
     "metadata": {},
     "output_type": "execute_result"
    }
   ],
   "source": [
    "reactions = sorted(list(set(df_control.columns) | set(df_kd.columns)))\n",
    "len(reactions) # število reakcij"
   ]
  },
  {
   "cell_type": "markdown",
   "metadata": {},
   "source": [
    "### Differential activity of metabolic reactions"
   ]
  },
  {
   "cell_type": "code",
   "execution_count": 5,
   "metadata": {},
   "outputs": [],
   "source": [
    "df = pd.DataFrame(columns=['reaction', 'FC', 'p', 'q', 'enrichment', 'changed'])\n",
    "df['reaction']=reactions\n",
    "\n",
    "n_samples = df_control.shape[0]\n",
    "\n",
    "# we will go through all reactions\n",
    "for reaction in reactions:\n",
    "    if reaction in df_control.columns:\n",
    "        control = df_control[reaction].values\n",
    "    else:\n",
    "        # if a reaction is not in the control group, its activity equals 0\n",
    "        control = np.zeros(n_samples)\n",
    "        \n",
    "    if reaction in df_kd.columns:\n",
    "        kd = df_kd[reaction].values\n",
    "    else:\n",
    "        # if a reaction is not in the kd group, its activity equals 0\n",
    "        kd = np.zeros(n_samples)\n",
    "        \n",
    "    # mean activities\n",
    "    mean_control = np.mean(control)\n",
    "    mean_kd = np.mean(kd)\n",
    "    \n",
    "    # FC - fold change and significance using the 2 sample Kolmogorov-Smirnov test\n",
    "    if mean_control != 0 or mean_kd != 0:\n",
    "        FC = (mean_kd-mean_control)/(abs(mean_kd + mean_control))\n",
    "        p = ks_2samp(control,kd)[1]\n",
    "    else:\n",
    "        FC = 0\n",
    "        p = 1     \n",
    "        \n",
    "    df.loc[df['reaction']==reaction, 'FC'] = FC\n",
    "    df.loc[df['reaction']==reaction, 'p'] = p\n",
    "    \n",
    "    \n",
    "# adjustment of p-values for multiple testing - FDR correction\n",
    "df['q'] = bh(df['p'])\n",
    "\n",
    "# signifikanca zahteva vsaj 10-kratno up-/down-regulacijo\n",
    "df.loc[(df['FC'] >= 0.82) & (df['q'] < 0.05),'enrichment'] = 1\n",
    "df.loc[(df['FC'] <= -0.82) & (df['q'] < 0.05),'enrichment'] = -1\n",
    "df.loc[~df['enrichment'].isna(),'changed'] = 1\n",
    "#df = df.fillna(0)\n",
    "    \n",
    "    "
   ]
  },
  {
   "cell_type": "code",
   "execution_count": 6,
   "metadata": {},
   "outputs": [],
   "source": [
    "df=df.fillna(0)"
   ]
  },
  {
   "cell_type": "code",
   "execution_count": null,
   "metadata": {},
   "outputs": [],
   "source": [
    "df.to_csv(os.path.join(f\"{folder_enrich}\",\"reactions.csv\"), index=False)"
   ]
  },
  {
   "cell_type": "code",
   "execution_count": 7,
   "metadata": {},
   "outputs": [
    {
     "data": {
      "text/html": [
       "<div>\n",
       "<style scoped>\n",
       "    .dataframe tbody tr th:only-of-type {\n",
       "        vertical-align: middle;\n",
       "    }\n",
       "\n",
       "    .dataframe tbody tr th {\n",
       "        vertical-align: top;\n",
       "    }\n",
       "\n",
       "    .dataframe thead th {\n",
       "        text-align: right;\n",
       "    }\n",
       "</style>\n",
       "<table border=\"1\" class=\"dataframe\">\n",
       "  <thead>\n",
       "    <tr style=\"text-align: right;\">\n",
       "      <th></th>\n",
       "      <th>reaction</th>\n",
       "      <th>FC</th>\n",
       "      <th>p</th>\n",
       "      <th>q</th>\n",
       "      <th>enrichment</th>\n",
       "      <th>changed</th>\n",
       "    </tr>\n",
       "  </thead>\n",
       "  <tbody>\n",
       "    <tr>\n",
       "      <th>0</th>\n",
       "      <td>10FTHF5GLUtl</td>\n",
       "      <td>1.000000</td>\n",
       "      <td>0.000000e+00</td>\n",
       "      <td>0.000000e+00</td>\n",
       "      <td>1</td>\n",
       "      <td>1</td>\n",
       "    </tr>\n",
       "    <tr>\n",
       "      <th>1</th>\n",
       "      <td>10FTHF5GLUtm</td>\n",
       "      <td>1.000000</td>\n",
       "      <td>0.000000e+00</td>\n",
       "      <td>0.000000e+00</td>\n",
       "      <td>1</td>\n",
       "      <td>1</td>\n",
       "    </tr>\n",
       "    <tr>\n",
       "      <th>2</th>\n",
       "      <td>10FTHFtl</td>\n",
       "      <td>-1.000000</td>\n",
       "      <td>0.000000e+00</td>\n",
       "      <td>0.000000e+00</td>\n",
       "      <td>-1</td>\n",
       "      <td>1</td>\n",
       "    </tr>\n",
       "    <tr>\n",
       "      <th>3</th>\n",
       "      <td>10FTHFtm</td>\n",
       "      <td>0.217584</td>\n",
       "      <td>5.205457e-12</td>\n",
       "      <td>5.981296e-12</td>\n",
       "      <td>0</td>\n",
       "      <td>0</td>\n",
       "    </tr>\n",
       "    <tr>\n",
       "      <th>4</th>\n",
       "      <td>12DHCHOLabc</td>\n",
       "      <td>-0.554093</td>\n",
       "      <td>3.094078e-138</td>\n",
       "      <td>5.473400e-138</td>\n",
       "      <td>0</td>\n",
       "      <td>0</td>\n",
       "    </tr>\n",
       "    <tr>\n",
       "      <th>...</th>\n",
       "      <td>...</td>\n",
       "      <td>...</td>\n",
       "      <td>...</td>\n",
       "      <td>...</td>\n",
       "      <td>...</td>\n",
       "      <td>...</td>\n",
       "    </tr>\n",
       "    <tr>\n",
       "      <th>2277</th>\n",
       "      <td>r2519</td>\n",
       "      <td>0.372597</td>\n",
       "      <td>1.352908e-72</td>\n",
       "      <td>2.033818e-72</td>\n",
       "      <td>0</td>\n",
       "      <td>0</td>\n",
       "    </tr>\n",
       "    <tr>\n",
       "      <th>2278</th>\n",
       "      <td>r2521</td>\n",
       "      <td>1.000000</td>\n",
       "      <td>0.000000e+00</td>\n",
       "      <td>0.000000e+00</td>\n",
       "      <td>1</td>\n",
       "      <td>1</td>\n",
       "    </tr>\n",
       "    <tr>\n",
       "      <th>2279</th>\n",
       "      <td>r2535m</td>\n",
       "      <td>-1.000000</td>\n",
       "      <td>0.000000e+00</td>\n",
       "      <td>0.000000e+00</td>\n",
       "      <td>-1</td>\n",
       "      <td>1</td>\n",
       "    </tr>\n",
       "    <tr>\n",
       "      <th>2280</th>\n",
       "      <td>r2537</td>\n",
       "      <td>-0.641050</td>\n",
       "      <td>0.000000e+00</td>\n",
       "      <td>0.000000e+00</td>\n",
       "      <td>0</td>\n",
       "      <td>0</td>\n",
       "    </tr>\n",
       "    <tr>\n",
       "      <th>2281</th>\n",
       "      <td>r2538</td>\n",
       "      <td>1.000000</td>\n",
       "      <td>0.000000e+00</td>\n",
       "      <td>0.000000e+00</td>\n",
       "      <td>1</td>\n",
       "      <td>1</td>\n",
       "    </tr>\n",
       "  </tbody>\n",
       "</table>\n",
       "<p>2282 rows × 6 columns</p>\n",
       "</div>"
      ],
      "text/plain": [
       "          reaction        FC              p              q  enrichment  \\\n",
       "0     10FTHF5GLUtl  1.000000   0.000000e+00   0.000000e+00           1   \n",
       "1     10FTHF5GLUtm  1.000000   0.000000e+00   0.000000e+00           1   \n",
       "2         10FTHFtl -1.000000   0.000000e+00   0.000000e+00          -1   \n",
       "3         10FTHFtm  0.217584   5.205457e-12   5.981296e-12           0   \n",
       "4      12DHCHOLabc -0.554093  3.094078e-138  5.473400e-138           0   \n",
       "...            ...       ...            ...            ...         ...   \n",
       "2277         r2519  0.372597   1.352908e-72   2.033818e-72           0   \n",
       "2278         r2521  1.000000   0.000000e+00   0.000000e+00           1   \n",
       "2279        r2535m -1.000000   0.000000e+00   0.000000e+00          -1   \n",
       "2280         r2537 -0.641050   0.000000e+00   0.000000e+00           0   \n",
       "2281         r2538  1.000000   0.000000e+00   0.000000e+00           1   \n",
       "\n",
       "      changed  \n",
       "0           1  \n",
       "1           1  \n",
       "2           1  \n",
       "3           0  \n",
       "4           0  \n",
       "...       ...  \n",
       "2277        0  \n",
       "2278        1  \n",
       "2279        1  \n",
       "2280        0  \n",
       "2281        1  \n",
       "\n",
       "[2282 rows x 6 columns]"
      ]
     },
     "execution_count": 7,
     "metadata": {},
     "output_type": "execute_result"
    }
   ],
   "source": [
    "df"
   ]
  }
 ],
 "metadata": {
  "kernelspec": {
   "display_name": "metabolic",
   "language": "python",
   "name": "metabolic"
  },
  "language_info": {
   "codemirror_mode": {
    "name": "ipython",
    "version": 3
   },
   "file_extension": ".py",
   "mimetype": "text/x-python",
   "name": "python",
   "nbconvert_exporter": "python",
   "pygments_lexer": "ipython3",
   "version": "3.11.0"
  }
 },
 "nbformat": 4,
 "nbformat_minor": 4
}
