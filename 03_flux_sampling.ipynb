{
 "cells": [
  {
   "cell_type": "code",
   "execution_count": 1,
   "metadata": {},
   "outputs": [],
   "source": [
    "import pandas as pd\n",
    "import cobra\n",
    "\n",
    "from cobra.io import load_model\n",
    "\n",
    "import numpy as np\n",
    "import pickle\n",
    "\n",
    "import os.path"
   ]
  },
  {
   "cell_type": "markdown",
   "metadata": {},
   "source": [
    "## Basic settings"
   ]
  },
  {
   "cell_type": "code",
   "execution_count": 2,
   "metadata": {},
   "outputs": [],
   "source": [
    "folder = \"models\"\n",
    "folder_samples = \"samples\""
   ]
  },
  {
   "cell_type": "markdown",
   "metadata": {},
   "source": [
    "## Importing the models"
   ]
  },
  {
   "cell_type": "code",
   "execution_count": 3,
   "metadata": {},
   "outputs": [],
   "source": [
    "model_control = cobra.io.read_sbml_model(os.path.join(f'{folder}','model_control.xml'))\n",
    "model_kd = cobra.io.read_sbml_model(os.path.join(f'{folder}','model_kd.xml'))"
   ]
  },
  {
   "cell_type": "markdown",
   "metadata": {},
   "source": [
    "Get the reactions from each of the models and store them as two sets."
   ]
  },
  {
   "cell_type": "code",
   "execution_count": 4,
   "metadata": {},
   "outputs": [],
   "source": [
    "reacts_control = {r.id for r in model_control.reactions}\n",
    "reacts_kd = {r.id for r in model_kd.reactions}"
   ]
  },
  {
   "cell_type": "code",
   "execution_count": 5,
   "metadata": {},
   "outputs": [
    {
     "data": {
      "text/plain": [
       "1789"
      ]
     },
     "execution_count": 5,
     "metadata": {},
     "output_type": "execute_result"
    }
   ],
   "source": [
    "len(reacts_control)"
   ]
  },
  {
   "cell_type": "code",
   "execution_count": 6,
   "metadata": {},
   "outputs": [
    {
     "data": {
      "text/plain": [
       "2047"
      ]
     },
     "execution_count": 6,
     "metadata": {},
     "output_type": "execute_result"
    }
   ],
   "source": [
    "len(reacts_kd)"
   ]
  },
  {
   "cell_type": "markdown",
   "metadata": {},
   "source": [
    "## Basic analyses"
   ]
  },
  {
   "cell_type": "markdown",
   "metadata": {},
   "source": [
    "### Jaccard index\n",
    "\n",
    "Jaccard index is a statistical measure to compare two populations / samples.\n",
    "\n",
    "It can be expressed as a fraction between the number of the reactions in both samples (intersection) and the number of different reactions in both samples (union):\n",
    "$$J=\\frac{|S_1 \\cap S_2|}{|S_1 \\cup S_2|}$$\n",
    "\n",
    "The size of the intersection is in the best case equal to the size of the union. This means that the index will take values from the interval $[0,1]$. Higher index reflects higher similarity between the samples."
   ]
  },
  {
   "cell_type": "code",
   "execution_count": 7,
   "metadata": {},
   "outputs": [
    {
     "data": {
      "text/plain": [
       "0.6809815950920245"
      ]
     },
     "execution_count": 7,
     "metadata": {},
     "output_type": "execute_result"
    }
   ],
   "source": [
    "J = len(reacts_control & reacts_kd)/len(reacts_control | reacts_kd)\n",
    "J"
   ]
  },
  {
   "cell_type": "markdown",
   "metadata": {},
   "source": [
    "## Summary"
   ]
  },
  {
   "cell_type": "code",
   "execution_count": null,
   "metadata": {},
   "outputs": [],
   "source": [
    "model_control.summary()"
   ]
  },
  {
   "cell_type": "code",
   "execution_count": null,
   "metadata": {},
   "outputs": [],
   "source": [
    "model_kd.summary()"
   ]
  },
  {
   "cell_type": "markdown",
   "metadata": {},
   "source": [
    "## Metabolic flux sampling\n",
    "\n",
    "We will employ the function called `sample`, which can be be accessed through the COBRApy package ([link](https://cobrapy.readthedocs.io/en/latest/sampling.html))."
   ]
  },
  {
   "cell_type": "code",
   "execution_count": 8,
   "metadata": {},
   "outputs": [],
   "source": [
    "from cobra.sampling import sample"
   ]
  },
  {
   "cell_type": "markdown",
   "metadata": {},
   "source": [
    "We need to specify the model, number of samples nad sampling method. \n",
    "\n",
    "**CAUTION: this step is time consuming! You can skip the cells below in read the data from a file that was prepared in advance.**"
   ]
  },
  {
   "cell_type": "code",
   "execution_count": null,
   "metadata": {},
   "outputs": [],
   "source": [
    "s_control = sample(model_control, 1000, method=\"achr\") "
   ]
  },
  {
   "cell_type": "code",
   "execution_count": null,
   "metadata": {},
   "outputs": [],
   "source": []
  },
  {
   "cell_type": "markdown",
   "metadata": {},
   "source": [
    "**CAUTION: this step is time consuming! You can skip the cells below in read the data from a file that was prepared in advance.**"
   ]
  },
  {
   "cell_type": "code",
   "execution_count": null,
   "metadata": {},
   "outputs": [],
   "source": [
    "s_kd = sample(model_kd, 1000, method=\"achr\")"
   ]
  },
  {
   "cell_type": "code",
   "execution_count": null,
   "metadata": {},
   "outputs": [],
   "source": [
    "s_control.to_csv(os.path.join(f'{folder_samples}','samples_control.csv'), index=False)"
   ]
  },
  {
   "cell_type": "code",
   "execution_count": null,
   "metadata": {},
   "outputs": [],
   "source": [
    "s_kd.to_csv(os.path.join(f'{folder_samples}','samples_kd.csv')', index=False)"
   ]
  },
  {
   "cell_type": "markdown",
   "metadata": {},
   "source": [
    "**Reading the results from a file (in a case the steps above were skipped).**"
   ]
  },
  {
   "cell_type": "code",
   "execution_count": 9,
   "metadata": {},
   "outputs": [],
   "source": [
    "s_control2 = pd.read_csv(os.path.join(f'{folder_samples}','samples_control.csv'))\n",
    "s_kd = pd.read_csv(os.path.join(f'{folder_samples}','samples_kd.csv'))"
   ]
  },
  {
   "cell_type": "code",
   "execution_count": 10,
   "metadata": {},
   "outputs": [
    {
     "data": {
      "text/html": [
       "<div>\n",
       "<style scoped>\n",
       "    .dataframe tbody tr th:only-of-type {\n",
       "        vertical-align: middle;\n",
       "    }\n",
       "\n",
       "    .dataframe tbody tr th {\n",
       "        vertical-align: top;\n",
       "    }\n",
       "\n",
       "    .dataframe thead th {\n",
       "        text-align: right;\n",
       "    }\n",
       "</style>\n",
       "<table border=\"1\" class=\"dataframe\">\n",
       "  <thead>\n",
       "    <tr style=\"text-align: right;\">\n",
       "      <th></th>\n",
       "      <th>24_25DHVITD3tm</th>\n",
       "      <th>EX_5fthf_e</th>\n",
       "      <th>EX_5mthf_e</th>\n",
       "      <th>24_25VITD3Hm</th>\n",
       "      <th>10FTHFtm</th>\n",
       "      <th>24_25DHVITD2t</th>\n",
       "      <th>24_25DHVITD2tm</th>\n",
       "      <th>24_25DHVITD3t</th>\n",
       "      <th>5FTHFt2_1</th>\n",
       "      <th>AACTtm</th>\n",
       "      <th>...</th>\n",
       "      <th>DM_thmtp_c</th>\n",
       "      <th>ACtp</th>\n",
       "      <th>HMR_9680</th>\n",
       "      <th>HMR_6580</th>\n",
       "      <th>HMR_4772</th>\n",
       "      <th>EX_sbt__D_e</th>\n",
       "      <th>12DHCHOLt2</th>\n",
       "      <th>3DHCDCHOLabc</th>\n",
       "      <th>3DHCDCHOLt2</th>\n",
       "      <th>BIOMASS_maintenance</th>\n",
       "    </tr>\n",
       "  </thead>\n",
       "  <tbody>\n",
       "    <tr>\n",
       "      <th>0</th>\n",
       "      <td>0.047021</td>\n",
       "      <td>-273.034757</td>\n",
       "      <td>476.914599</td>\n",
       "      <td>0.047021</td>\n",
       "      <td>-0.004085</td>\n",
       "      <td>0.044972</td>\n",
       "      <td>0.044972</td>\n",
       "      <td>0.047021</td>\n",
       "      <td>273.034757</td>\n",
       "      <td>750.230986</td>\n",
       "      <td>...</td>\n",
       "      <td>100.832735</td>\n",
       "      <td>-2.922463</td>\n",
       "      <td>-602.354439</td>\n",
       "      <td>0.004176</td>\n",
       "      <td>0.068810</td>\n",
       "      <td>-195.551732</td>\n",
       "      <td>0.000897</td>\n",
       "      <td>0.000382</td>\n",
       "      <td>0.000382</td>\n",
       "      <td>0.266818</td>\n",
       "    </tr>\n",
       "    <tr>\n",
       "      <th>1</th>\n",
       "      <td>0.870055</td>\n",
       "      <td>-272.360221</td>\n",
       "      <td>473.294493</td>\n",
       "      <td>0.870055</td>\n",
       "      <td>-0.003837</td>\n",
       "      <td>0.044278</td>\n",
       "      <td>0.044278</td>\n",
       "      <td>0.870055</td>\n",
       "      <td>272.360221</td>\n",
       "      <td>746.590409</td>\n",
       "      <td>...</td>\n",
       "      <td>97.731086</td>\n",
       "      <td>-3.543035</td>\n",
       "      <td>-601.479174</td>\n",
       "      <td>0.003922</td>\n",
       "      <td>0.261053</td>\n",
       "      <td>-195.265091</td>\n",
       "      <td>0.000842</td>\n",
       "      <td>0.000359</td>\n",
       "      <td>0.000359</td>\n",
       "      <td>0.286736</td>\n",
       "    </tr>\n",
       "    <tr>\n",
       "      <th>2</th>\n",
       "      <td>0.900810</td>\n",
       "      <td>-272.594536</td>\n",
       "      <td>474.772731</td>\n",
       "      <td>0.900810</td>\n",
       "      <td>-0.003841</td>\n",
       "      <td>0.041535</td>\n",
       "      <td>0.041535</td>\n",
       "      <td>0.900810</td>\n",
       "      <td>272.594536</td>\n",
       "      <td>747.064439</td>\n",
       "      <td>...</td>\n",
       "      <td>100.082644</td>\n",
       "      <td>-3.459726</td>\n",
       "      <td>-601.367402</td>\n",
       "      <td>0.003926</td>\n",
       "      <td>0.283135</td>\n",
       "      <td>-194.991777</td>\n",
       "      <td>0.000843</td>\n",
       "      <td>0.000359</td>\n",
       "      <td>0.000359</td>\n",
       "      <td>0.273469</td>\n",
       "    </tr>\n",
       "    <tr>\n",
       "      <th>3</th>\n",
       "      <td>0.934806</td>\n",
       "      <td>-272.607661</td>\n",
       "      <td>474.672916</td>\n",
       "      <td>0.934806</td>\n",
       "      <td>-0.003837</td>\n",
       "      <td>0.012430</td>\n",
       "      <td>0.012430</td>\n",
       "      <td>0.934806</td>\n",
       "      <td>272.607661</td>\n",
       "      <td>746.930457</td>\n",
       "      <td>...</td>\n",
       "      <td>100.375330</td>\n",
       "      <td>-3.882174</td>\n",
       "      <td>-601.485048</td>\n",
       "      <td>0.002268</td>\n",
       "      <td>0.368730</td>\n",
       "      <td>-194.353152</td>\n",
       "      <td>0.000550</td>\n",
       "      <td>0.000359</td>\n",
       "      <td>0.000359</td>\n",
       "      <td>0.288159</td>\n",
       "    </tr>\n",
       "    <tr>\n",
       "      <th>4</th>\n",
       "      <td>0.964219</td>\n",
       "      <td>-272.935531</td>\n",
       "      <td>476.784192</td>\n",
       "      <td>0.964219</td>\n",
       "      <td>-0.003836</td>\n",
       "      <td>0.026966</td>\n",
       "      <td>0.026966</td>\n",
       "      <td>0.964219</td>\n",
       "      <td>272.935531</td>\n",
       "      <td>747.048183</td>\n",
       "      <td>...</td>\n",
       "      <td>102.893482</td>\n",
       "      <td>-4.091771</td>\n",
       "      <td>-602.150408</td>\n",
       "      <td>0.002267</td>\n",
       "      <td>0.469885</td>\n",
       "      <td>-193.196651</td>\n",
       "      <td>0.000550</td>\n",
       "      <td>0.000359</td>\n",
       "      <td>0.000359</td>\n",
       "      <td>0.267600</td>\n",
       "    </tr>\n",
       "    <tr>\n",
       "      <th>...</th>\n",
       "      <td>...</td>\n",
       "      <td>...</td>\n",
       "      <td>...</td>\n",
       "      <td>...</td>\n",
       "      <td>...</td>\n",
       "      <td>...</td>\n",
       "      <td>...</td>\n",
       "      <td>...</td>\n",
       "      <td>...</td>\n",
       "      <td>...</td>\n",
       "      <td>...</td>\n",
       "      <td>...</td>\n",
       "      <td>...</td>\n",
       "      <td>...</td>\n",
       "      <td>...</td>\n",
       "      <td>...</td>\n",
       "      <td>...</td>\n",
       "      <td>...</td>\n",
       "      <td>...</td>\n",
       "      <td>...</td>\n",
       "      <td>...</td>\n",
       "    </tr>\n",
       "    <tr>\n",
       "      <th>995</th>\n",
       "      <td>1.147711</td>\n",
       "      <td>-35.464431</td>\n",
       "      <td>-6.049059</td>\n",
       "      <td>1.147711</td>\n",
       "      <td>-5.520592</td>\n",
       "      <td>36.942679</td>\n",
       "      <td>36.942679</td>\n",
       "      <td>1.147711</td>\n",
       "      <td>35.464431</td>\n",
       "      <td>73.636046</td>\n",
       "      <td>...</td>\n",
       "      <td>-226.542847</td>\n",
       "      <td>-41.709843</td>\n",
       "      <td>-517.468030</td>\n",
       "      <td>6.538257</td>\n",
       "      <td>6.123923</td>\n",
       "      <td>-295.718470</td>\n",
       "      <td>0.427039</td>\n",
       "      <td>5.654436</td>\n",
       "      <td>5.654436</td>\n",
       "      <td>0.525123</td>\n",
       "    </tr>\n",
       "    <tr>\n",
       "      <th>996</th>\n",
       "      <td>13.373282</td>\n",
       "      <td>-37.403537</td>\n",
       "      <td>32.220056</td>\n",
       "      <td>13.373282</td>\n",
       "      <td>-5.473967</td>\n",
       "      <td>36.851454</td>\n",
       "      <td>36.851454</td>\n",
       "      <td>13.373282</td>\n",
       "      <td>37.403537</td>\n",
       "      <td>77.696669</td>\n",
       "      <td>...</td>\n",
       "      <td>-233.062989</td>\n",
       "      <td>-38.070310</td>\n",
       "      <td>-522.076391</td>\n",
       "      <td>6.830596</td>\n",
       "      <td>4.541524</td>\n",
       "      <td>-308.361347</td>\n",
       "      <td>0.374307</td>\n",
       "      <td>5.637512</td>\n",
       "      <td>5.637512</td>\n",
       "      <td>0.660324</td>\n",
       "    </tr>\n",
       "    <tr>\n",
       "      <th>997</th>\n",
       "      <td>11.894613</td>\n",
       "      <td>-31.602629</td>\n",
       "      <td>12.252608</td>\n",
       "      <td>11.894613</td>\n",
       "      <td>-5.447434</td>\n",
       "      <td>36.254420</td>\n",
       "      <td>36.254420</td>\n",
       "      <td>11.894613</td>\n",
       "      <td>31.602629</td>\n",
       "      <td>82.904406</td>\n",
       "      <td>...</td>\n",
       "      <td>-238.049744</td>\n",
       "      <td>-30.590047</td>\n",
       "      <td>-509.098802</td>\n",
       "      <td>7.191582</td>\n",
       "      <td>1.467067</td>\n",
       "      <td>-311.345074</td>\n",
       "      <td>0.420022</td>\n",
       "      <td>5.652261</td>\n",
       "      <td>5.652261</td>\n",
       "      <td>0.574194</td>\n",
       "    </tr>\n",
       "    <tr>\n",
       "      <th>998</th>\n",
       "      <td>10.265425</td>\n",
       "      <td>-31.217137</td>\n",
       "      <td>6.112814</td>\n",
       "      <td>10.265425</td>\n",
       "      <td>-3.340325</td>\n",
       "      <td>34.211596</td>\n",
       "      <td>34.211596</td>\n",
       "      <td>10.265425</td>\n",
       "      <td>31.217137</td>\n",
       "      <td>81.409901</td>\n",
       "      <td>...</td>\n",
       "      <td>-244.733514</td>\n",
       "      <td>-24.946779</td>\n",
       "      <td>-498.112255</td>\n",
       "      <td>7.001975</td>\n",
       "      <td>0.448350</td>\n",
       "      <td>-317.065581</td>\n",
       "      <td>0.305121</td>\n",
       "      <td>5.825254</td>\n",
       "      <td>5.825254</td>\n",
       "      <td>0.417381</td>\n",
       "    </tr>\n",
       "    <tr>\n",
       "      <th>999</th>\n",
       "      <td>13.077010</td>\n",
       "      <td>-23.142730</td>\n",
       "      <td>-29.377027</td>\n",
       "      <td>13.077010</td>\n",
       "      <td>-1.533289</td>\n",
       "      <td>39.505352</td>\n",
       "      <td>39.505352</td>\n",
       "      <td>13.077010</td>\n",
       "      <td>23.142730</td>\n",
       "      <td>81.058277</td>\n",
       "      <td>...</td>\n",
       "      <td>-253.462217</td>\n",
       "      <td>-27.848922</td>\n",
       "      <td>-492.986887</td>\n",
       "      <td>6.803227</td>\n",
       "      <td>3.122066</td>\n",
       "      <td>-324.422074</td>\n",
       "      <td>0.377300</td>\n",
       "      <td>5.943082</td>\n",
       "      <td>5.943082</td>\n",
       "      <td>0.261393</td>\n",
       "    </tr>\n",
       "  </tbody>\n",
       "</table>\n",
       "<p>1000 rows × 1789 columns</p>\n",
       "</div>"
      ],
      "text/plain": [
       "     24_25DHVITD3tm  EX_5fthf_e  EX_5mthf_e  24_25VITD3Hm  10FTHFtm  \\\n",
       "0          0.047021 -273.034757  476.914599      0.047021 -0.004085   \n",
       "1          0.870055 -272.360221  473.294493      0.870055 -0.003837   \n",
       "2          0.900810 -272.594536  474.772731      0.900810 -0.003841   \n",
       "3          0.934806 -272.607661  474.672916      0.934806 -0.003837   \n",
       "4          0.964219 -272.935531  476.784192      0.964219 -0.003836   \n",
       "..              ...         ...         ...           ...       ...   \n",
       "995        1.147711  -35.464431   -6.049059      1.147711 -5.520592   \n",
       "996       13.373282  -37.403537   32.220056     13.373282 -5.473967   \n",
       "997       11.894613  -31.602629   12.252608     11.894613 -5.447434   \n",
       "998       10.265425  -31.217137    6.112814     10.265425 -3.340325   \n",
       "999       13.077010  -23.142730  -29.377027     13.077010 -1.533289   \n",
       "\n",
       "     24_25DHVITD2t  24_25DHVITD2tm  24_25DHVITD3t   5FTHFt2_1      AACTtm  \\\n",
       "0         0.044972        0.044972       0.047021  273.034757  750.230986   \n",
       "1         0.044278        0.044278       0.870055  272.360221  746.590409   \n",
       "2         0.041535        0.041535       0.900810  272.594536  747.064439   \n",
       "3         0.012430        0.012430       0.934806  272.607661  746.930457   \n",
       "4         0.026966        0.026966       0.964219  272.935531  747.048183   \n",
       "..             ...             ...            ...         ...         ...   \n",
       "995      36.942679       36.942679       1.147711   35.464431   73.636046   \n",
       "996      36.851454       36.851454      13.373282   37.403537   77.696669   \n",
       "997      36.254420       36.254420      11.894613   31.602629   82.904406   \n",
       "998      34.211596       34.211596      10.265425   31.217137   81.409901   \n",
       "999      39.505352       39.505352      13.077010   23.142730   81.058277   \n",
       "\n",
       "     ...  DM_thmtp_c       ACtp    HMR_9680  HMR_6580  HMR_4772  EX_sbt__D_e  \\\n",
       "0    ...  100.832735  -2.922463 -602.354439  0.004176  0.068810  -195.551732   \n",
       "1    ...   97.731086  -3.543035 -601.479174  0.003922  0.261053  -195.265091   \n",
       "2    ...  100.082644  -3.459726 -601.367402  0.003926  0.283135  -194.991777   \n",
       "3    ...  100.375330  -3.882174 -601.485048  0.002268  0.368730  -194.353152   \n",
       "4    ...  102.893482  -4.091771 -602.150408  0.002267  0.469885  -193.196651   \n",
       "..   ...         ...        ...         ...       ...       ...          ...   \n",
       "995  ... -226.542847 -41.709843 -517.468030  6.538257  6.123923  -295.718470   \n",
       "996  ... -233.062989 -38.070310 -522.076391  6.830596  4.541524  -308.361347   \n",
       "997  ... -238.049744 -30.590047 -509.098802  7.191582  1.467067  -311.345074   \n",
       "998  ... -244.733514 -24.946779 -498.112255  7.001975  0.448350  -317.065581   \n",
       "999  ... -253.462217 -27.848922 -492.986887  6.803227  3.122066  -324.422074   \n",
       "\n",
       "     12DHCHOLt2  3DHCDCHOLabc  3DHCDCHOLt2  BIOMASS_maintenance  \n",
       "0      0.000897      0.000382     0.000382             0.266818  \n",
       "1      0.000842      0.000359     0.000359             0.286736  \n",
       "2      0.000843      0.000359     0.000359             0.273469  \n",
       "3      0.000550      0.000359     0.000359             0.288159  \n",
       "4      0.000550      0.000359     0.000359             0.267600  \n",
       "..          ...           ...          ...                  ...  \n",
       "995    0.427039      5.654436     5.654436             0.525123  \n",
       "996    0.374307      5.637512     5.637512             0.660324  \n",
       "997    0.420022      5.652261     5.652261             0.574194  \n",
       "998    0.305121      5.825254     5.825254             0.417381  \n",
       "999    0.377300      5.943082     5.943082             0.261393  \n",
       "\n",
       "[1000 rows x 1789 columns]"
      ]
     },
     "execution_count": 10,
     "metadata": {},
     "output_type": "execute_result"
    }
   ],
   "source": [
    "s_control2"
   ]
  },
  {
   "cell_type": "code",
   "execution_count": null,
   "metadata": {},
   "outputs": [],
   "source": [
    "s_kd"
   ]
  },
  {
   "cell_type": "code",
   "execution_count": null,
   "metadata": {},
   "outputs": [],
   "source": []
  }
 ],
 "metadata": {
  "kernelspec": {
   "display_name": "metabolic",
   "language": "python",
   "name": "metabolic"
  },
  "language_info": {
   "codemirror_mode": {
    "name": "ipython",
    "version": 3
   },
   "file_extension": ".py",
   "mimetype": "text/x-python",
   "name": "python",
   "nbconvert_exporter": "python",
   "pygments_lexer": "ipython3",
   "version": "3.11.0"
  }
 },
 "nbformat": 4,
 "nbformat_minor": 4
}
