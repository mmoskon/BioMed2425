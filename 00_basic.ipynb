{
 "cells": [
  {
   "cell_type": "markdown",
   "metadata": {},
   "source": [
    "## Getting started"
   ]
  },
  {
   "cell_type": "code",
   "execution_count": null,
   "metadata": {
    "pycharm": {
     "is_executing": true
    }
   },
   "outputs": [],
   "source": [
    "import pandas as pd\n",
    "import cobra\n",
    "\n",
    "from cobra.io import load_model\n",
    "\n",
    "import numpy as np\n",
    "import pickle\n",
    "\n",
    "import os.path \n",
    "\n",
    "import matplotlib.pyplot as plt\n",
    "import seaborn as sns\n",
    "\n",
    "from IPython.core.display import HTML"
   ]
  },
  {
   "cell_type": "markdown",
   "metadata": {},
   "source": [
    "## *E. coli*"
   ]
  },
  {
   "cell_type": "markdown",
   "metadata": {},
   "source": [
    "We will read an *E. coli* metabolic model. The model has been downloaded from http://bigg.ucsd.edu/models/e_coli_core."
   ]
  },
  {
   "cell_type": "code",
   "execution_count": null,
   "metadata": {},
   "outputs": [],
   "source": [
    "model = cobra.io.read_sbml_model(os.path.join('models','e_coli_core.xml'))"
   ]
  },
  {
   "cell_type": "code",
   "execution_count": null,
   "metadata": {},
   "outputs": [],
   "source": [
    "model"
   ]
  },
  {
   "cell_type": "code",
   "execution_count": null,
   "metadata": {},
   "outputs": [],
   "source": [
    "model.reactions[0]"
   ]
  },
  {
   "cell_type": "markdown",
   "metadata": {},
   "source": [
    "Let's define the biommas function as the metabolic objective:"
   ]
  },
  {
   "cell_type": "code",
   "execution_count": null,
   "metadata": {},
   "outputs": [],
   "source": [
    "model.reactions.get_by_id('BIOMASS_Ecoli_core_w_GAM')"
   ]
  },
  {
   "cell_type": "code",
   "execution_count": null,
   "metadata": {},
   "outputs": [],
   "source": [
    "r_biomass = model.reactions.get_by_id('BIOMASS_Ecoli_core_w_GAM')\n",
    "r_biomass"
   ]
  },
  {
   "cell_type": "code",
   "execution_count": null,
   "metadata": {},
   "outputs": [],
   "source": [
    "model.objective = r_biomass"
   ]
  },
  {
   "cell_type": "code",
   "execution_count": null,
   "metadata": {},
   "outputs": [],
   "source": [
    "model.objective.expression"
   ]
  },
  {
   "cell_type": "code",
   "execution_count": null,
   "metadata": {},
   "outputs": [],
   "source": [
    "sol = model.optimize()\n",
    "sol"
   ]
  },
  {
   "cell_type": "code",
   "execution_count": null,
   "metadata": {},
   "outputs": [],
   "source": [
    "model.summary()"
   ]
  },
  {
   "cell_type": "markdown",
   "metadata": {},
   "source": [
    "We can see that the cell growth equals 0.874 $h^{-1}$."
   ]
  },
  {
   "cell_type": "markdown",
   "metadata": {},
   "source": [
    "We can compare this with the result obtained using [Escher-FBA](https://sbrg.github.io/escher-fba/#/app):"
   ]
  },
  {
   "cell_type": "code",
   "execution_count": null,
   "metadata": {},
   "outputs": [],
   "source": [
    "sol = model.optimize()\n",
    "sol['EX_glc__D_e']"
   ]
  },
  {
   "cell_type": "code",
   "execution_count": null,
   "metadata": {},
   "outputs": [],
   "source": [
    "sol = model.optimize()\n",
    "sol['EX_o2_e']"
   ]
  },
  {
   "cell_type": "markdown",
   "metadata": {},
   "source": [
    "### Growth medium"
   ]
  },
  {
   "cell_type": "markdown",
   "metadata": {},
   "source": [
    "We can try changing the medium composition. As we see above, the cell consumes a significant amount of glucose (the flux through *EX_glc__D_e* equals 10 $mmol gDW^{-1} hr^{-1}$ -- millimole per gram dry weight per hour - default units in COBRA). What is the maximal possible uptake of glucose? Does the cell consume everything that is available?"
   ]
  },
  {
   "cell_type": "code",
   "execution_count": null,
   "metadata": {},
   "outputs": [],
   "source": [
    "r_ex_glc = model.reactions.get_by_id('EX_glc__D_e')\n",
    "r_ex_glc"
   ]
  },
  {
   "cell_type": "markdown",
   "metadata": {},
   "source": [
    "We can see that the flux is negative. However, the reaction is reversed (glucose secretion)! In COBRA all *exchange* (*uptake* and *secretion*) reactions have such form. \n",
    "\n",
    "As we can see the cell consumes all the glucose that is available. Let's try to reduce the glucose in the medium."
   ]
  },
  {
   "cell_type": "code",
   "execution_count": null,
   "metadata": {},
   "outputs": [],
   "source": [
    "r_ex_glc.bounds"
   ]
  },
  {
   "cell_type": "code",
   "execution_count": null,
   "metadata": {},
   "outputs": [],
   "source": [
    "r_ex_glc.bounds = (0, 1000.0)\n",
    "model.optimize()"
   ]
  },
  {
   "cell_type": "markdown",
   "metadata": {},
   "source": [
    "Oh no. This was too much. Let's be a little bit more permissive."
   ]
  },
  {
   "cell_type": "code",
   "execution_count": null,
   "metadata": {},
   "outputs": [],
   "source": [
    "r_ex_glc.bounds = (-1.0, 1000.0)"
   ]
  },
  {
   "cell_type": "code",
   "execution_count": null,
   "metadata": {},
   "outputs": [],
   "source": [
    "model.optimize()"
   ]
  },
  {
   "cell_type": "markdown",
   "metadata": {},
   "source": [
    "We can repeat a similar analysis in anaerobic conditions. We will remove the oxygen by setting its *uptake* bounds to 0:"
   ]
  },
  {
   "cell_type": "code",
   "execution_count": null,
   "metadata": {},
   "outputs": [],
   "source": [
    "r_ex_o2 = model.reactions.get_by_id('EX_o2_e')\n",
    "r_ex_o2"
   ]
  },
  {
   "cell_type": "code",
   "execution_count": null,
   "metadata": {},
   "outputs": [],
   "source": [
    "r_ex_glc.bounds = (-10.0, 1000.0)\n",
    "r_ex_o2.bounds = (0, 1000)"
   ]
  },
  {
   "cell_type": "code",
   "execution_count": null,
   "metadata": {},
   "outputs": [],
   "source": [
    "model.summary()"
   ]
  },
  {
   "cell_type": "markdown",
   "metadata": {},
   "source": [
    "Biomass production has dropped. Also, alternative pathway is now used for energy productions. The cell is now generating and secreting acetate (`ac`), formate (`for`) and ethanol (`etoh`). Before, the cell has been secreting water and carbon dioxide (cellular respiration). "
   ]
  },
  {
   "cell_type": "markdown",
   "metadata": {},
   "source": [
    "We can further analyse biomass production rate in dependence on oxygen and glucose:"
   ]
  },
  {
   "cell_type": "code",
   "execution_count": null,
   "metadata": {},
   "outputs": [],
   "source": [
    "o2_max = 1500\n",
    "glc_max = 1000\n",
    "\n",
    "# we generate a sorted list of oxygen and glucose values\n",
    "o2_range = np.arange(0, o2_max+1,100)\n",
    "glc_range = np.arange(0, glc_max+1,100)\n",
    "\n",
    "# a matrix with two rows; one for oxygen and one for glucose\n",
    "B = np.zeros((len(o2_range),len(glc_range)))\n",
    "\n",
    "# for each pair of values of O2 and glc we calculate and save the biomass production rate\n",
    "for i,o2 in enumerate(o2_range):\n",
    "    for j,glc in enumerate(glc_range):\n",
    "        r_ex_o2.lower_bound = -o2 # setting the oxygen uptake value\n",
    "        r_ex_glc.lower_bound = -glc # setting the glucose uptake value\n",
    "        s = model.optimize()\n",
    "        B[i,j] = s.objective_value # saving the result"
   ]
  },
  {
   "cell_type": "code",
   "execution_count": null,
   "metadata": {},
   "outputs": [],
   "source": [
    "ax = sns.heatmap(B, xticklabels=glc_range, yticklabels=o2_range)\n",
    "ax.invert_yaxis()\n",
    "plt.xlabel(\"glc\")\n",
    "plt.ylabel(\"o2\")\n",
    "plt.show()"
   ]
  },
  {
   "cell_type": "markdown",
   "metadata": {},
   "source": [
    "## FVA\n",
    "FVA (Flux Variability Analysis) allows the analysis of flux ranges bringing the system to almost optimal biomass production. "
   ]
  },
  {
   "cell_type": "code",
   "execution_count": null,
   "metadata": {},
   "outputs": [],
   "source": [
    "from cobra.flux_analysis import flux_variability_analysis"
   ]
  },
  {
   "cell_type": "code",
   "execution_count": null,
   "metadata": {},
   "outputs": [],
   "source": [
    "fva = flux_variability_analysis(model, fraction_of_optimum=0.9, loopless=True)"
   ]
  },
  {
   "cell_type": "code",
   "execution_count": null,
   "metadata": {},
   "outputs": [],
   "source": [
    "fva"
   ]
  },
  {
   "cell_type": "code",
   "execution_count": null,
   "metadata": {},
   "outputs": [],
   "source": [
    "model.optimize()\n",
    "model.summary(fva=0.90)"
   ]
  },
  {
   "cell_type": "markdown",
   "metadata": {},
   "source": [
    "### Genes in the model"
   ]
  },
  {
   "cell_type": "code",
   "execution_count": null,
   "metadata": {},
   "outputs": [],
   "source": [
    "for r in model.reactions:\n",
    "    print(r.gpr)"
   ]
  },
  {
   "cell_type": "code",
   "execution_count": null,
   "metadata": {},
   "outputs": [],
   "source": [
    "model.genes.get_by_id('b4015')"
   ]
  },
  {
   "cell_type": "markdown",
   "metadata": {},
   "source": [
    "## Recon3D"
   ]
  },
  {
   "cell_type": "markdown",
   "metadata": {},
   "source": [
    "Recon3D presents a human metabolic model. The model has been downloaded from [https://github.com/SBRG/Recon3D](https://github.com/SBRG/Recon3D). The model is described in the paper available [here](http://dx.doi.org/10.1038/nbt.4072)."
   ]
  },
  {
   "cell_type": "code",
   "execution_count": null,
   "metadata": {},
   "outputs": [],
   "source": [
    "model_rec3d = cobra.io.read_sbml_model(os.path.join('models','Recon3D.xml'))"
   ]
  },
  {
   "cell_type": "code",
   "execution_count": null,
   "metadata": {},
   "outputs": [],
   "source": [
    "model_rec3d"
   ]
  },
  {
   "cell_type": "markdown",
   "metadata": {},
   "source": [
    "Some of the model attributes:"
   ]
  },
  {
   "cell_type": "code",
   "execution_count": null,
   "metadata": {},
   "outputs": [],
   "source": [
    "model_rec3d.genes[0]"
   ]
  },
  {
   "cell_type": "code",
   "execution_count": null,
   "metadata": {},
   "outputs": [],
   "source": [
    "model_rec3d.metabolites[:3]"
   ]
  },
  {
   "cell_type": "code",
   "execution_count": null,
   "metadata": {},
   "outputs": [],
   "source": [
    "model_rec3d.reactions[:3]"
   ]
  },
  {
   "cell_type": "markdown",
   "metadata": {},
   "source": [
    "The model summary can be obtained with the method [summary](https://cobrapy.readthedocs.io/en/latest/autoapi/cobra/summary/model_summary/index.html):"
   ]
  },
  {
   "cell_type": "code",
   "execution_count": null,
   "metadata": {},
   "outputs": [],
   "source": [
    "model_rec3d.summary()"
   ]
  },
  {
   "cell_type": "code",
   "execution_count": null,
   "metadata": {},
   "outputs": [],
   "source": [
    "for r in model_rec3d.reactions[:100]:\n",
    "    gpr = r.gene_reaction_rule\n",
    "    if gpr:\n",
    "        print(gpr)"
   ]
  },
  {
   "cell_type": "code",
   "execution_count": null,
   "metadata": {},
   "outputs": [],
   "source": [
    "g = model_rec3d.genes.get_by_id('55902_AT1')\n",
    "g"
   ]
  },
  {
   "cell_type": "markdown",
   "metadata": {},
   "source": [
    "We can display the genes from the most frequent gene (present in the largest number of reactions) to the least frequent one."
   ]
  },
  {
   "cell_type": "code",
   "execution_count": null,
   "metadata": {},
   "outputs": [],
   "source": [
    "d = {}\n",
    "\n",
    "for g in model_rec3d.genes:\n",
    "    d[g.name] = len(g.reactions)"
   ]
  },
  {
   "cell_type": "code",
   "execution_count": null,
   "metadata": {},
   "outputs": [],
   "source": [
    "G = sorted(list(d.items()), key=lambda x: x[1], reverse = True)\n",
    "G[:30]"
   ]
  },
  {
   "cell_type": "code",
   "execution_count": null,
   "metadata": {},
   "outputs": [],
   "source": []
  }
 ],
 "metadata": {
  "kernelspec": {
   "display_name": "metabolic",
   "language": "python",
   "name": "metabolic"
  },
  "language_info": {
   "codemirror_mode": {
    "name": "ipython",
    "version": 3
   },
   "file_extension": ".py",
   "mimetype": "text/x-python",
   "name": "python",
   "nbconvert_exporter": "python",
   "pygments_lexer": "ipython3",
   "version": "3.11.0"
  }
 },
 "nbformat": 4,
 "nbformat_minor": 4
}
